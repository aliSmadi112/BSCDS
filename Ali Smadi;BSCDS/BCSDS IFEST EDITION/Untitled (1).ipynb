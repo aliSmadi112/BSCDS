{
 "cells": [
  {
   "cell_type": "code",
   "execution_count": 1,
   "id": "b872c258-e13f-4736-96c3-0282349d9ceb",
   "metadata": {},
   "outputs": [
    {
     "name": "stdout",
     "output_type": "stream",
     "text": [
      "Collecting ultralytics==8.1.7\n",
      "  Downloading ultralytics-8.1.7-py3-none-any.whl.metadata (40 kB)\n",
      "Requirement already satisfied: matplotlib>=3.3.0 in c:\\users\\user\\appdata\\local\\programs\\python\\python312\\lib\\site-packages (from ultralytics==8.1.7) (3.9.2)\n",
      "Requirement already satisfied: numpy>=1.22.2 in c:\\users\\user\\appdata\\local\\programs\\python\\python312\\lib\\site-packages (from ultralytics==8.1.7) (1.26.4)\n",
      "Requirement already satisfied: opencv-python>=4.6.0 in c:\\users\\user\\appdata\\local\\programs\\python\\python312\\lib\\site-packages (from ultralytics==8.1.7) (4.10.0.84)\n",
      "Requirement already satisfied: pillow>=7.1.2 in c:\\users\\user\\appdata\\local\\programs\\python\\python312\\lib\\site-packages (from ultralytics==8.1.7) (10.4.0)\n",
      "Requirement already satisfied: pyyaml>=5.3.1 in c:\\users\\user\\appdata\\local\\programs\\python\\python312\\lib\\site-packages (from ultralytics==8.1.7) (6.0.2)\n",
      "Requirement already satisfied: requests>=2.23.0 in c:\\users\\user\\appdata\\local\\programs\\python\\python312\\lib\\site-packages (from ultralytics==8.1.7) (2.32.3)\n",
      "Requirement already satisfied: scipy>=1.4.1 in c:\\users\\user\\appdata\\local\\programs\\python\\python312\\lib\\site-packages (from ultralytics==8.1.7) (1.14.1)\n",
      "Requirement already satisfied: torch>=1.8.0 in c:\\users\\user\\appdata\\local\\programs\\python\\python312\\lib\\site-packages (from ultralytics==8.1.7) (2.4.1)\n",
      "Requirement already satisfied: torchvision>=0.9.0 in c:\\users\\user\\appdata\\local\\programs\\python\\python312\\lib\\site-packages (from ultralytics==8.1.7) (0.19.1)\n",
      "Requirement already satisfied: tqdm>=4.64.0 in c:\\users\\user\\appdata\\local\\programs\\python\\python312\\lib\\site-packages (from ultralytics==8.1.7) (4.66.5)\n",
      "Requirement already satisfied: psutil in c:\\users\\user\\appdata\\local\\programs\\python\\python312\\lib\\site-packages (from ultralytics==8.1.7) (6.0.0)\n",
      "Requirement already satisfied: py-cpuinfo in c:\\users\\user\\appdata\\local\\programs\\python\\python312\\lib\\site-packages (from ultralytics==8.1.7) (9.0.0)\n",
      "Collecting thop>=0.1.1 (from ultralytics==8.1.7)\n",
      "  Downloading thop-0.1.1.post2209072238-py3-none-any.whl.metadata (2.7 kB)\n",
      "Requirement already satisfied: pandas>=1.1.4 in c:\\users\\user\\appdata\\local\\programs\\python\\python312\\lib\\site-packages (from ultralytics==8.1.7) (2.2.3)\n",
      "Requirement already satisfied: seaborn>=0.11.0 in c:\\users\\user\\appdata\\local\\programs\\python\\python312\\lib\\site-packages (from ultralytics==8.1.7) (0.13.2)\n",
      "Requirement already satisfied: contourpy>=1.0.1 in c:\\users\\user\\appdata\\local\\programs\\python\\python312\\lib\\site-packages (from matplotlib>=3.3.0->ultralytics==8.1.7) (1.3.0)\n",
      "Requirement already satisfied: cycler>=0.10 in c:\\users\\user\\appdata\\local\\programs\\python\\python312\\lib\\site-packages (from matplotlib>=3.3.0->ultralytics==8.1.7) (0.12.1)\n",
      "Requirement already satisfied: fonttools>=4.22.0 in c:\\users\\user\\appdata\\local\\programs\\python\\python312\\lib\\site-packages (from matplotlib>=3.3.0->ultralytics==8.1.7) (4.53.1)\n",
      "Requirement already satisfied: kiwisolver>=1.3.1 in c:\\users\\user\\appdata\\local\\programs\\python\\python312\\lib\\site-packages (from matplotlib>=3.3.0->ultralytics==8.1.7) (1.4.7)\n",
      "Requirement already satisfied: packaging>=20.0 in c:\\users\\user\\appdata\\local\\programs\\python\\python312\\lib\\site-packages (from matplotlib>=3.3.0->ultralytics==8.1.7) (24.1)\n",
      "Requirement already satisfied: pyparsing>=2.3.1 in c:\\users\\user\\appdata\\local\\programs\\python\\python312\\lib\\site-packages (from matplotlib>=3.3.0->ultralytics==8.1.7) (3.1.4)\n",
      "Requirement already satisfied: python-dateutil>=2.7 in c:\\users\\user\\appdata\\local\\programs\\python\\python312\\lib\\site-packages (from matplotlib>=3.3.0->ultralytics==8.1.7) (2.9.0.post0)\n",
      "Requirement already satisfied: pytz>=2020.1 in c:\\users\\user\\appdata\\local\\programs\\python\\python312\\lib\\site-packages (from pandas>=1.1.4->ultralytics==8.1.7) (2024.2)\n",
      "Requirement already satisfied: tzdata>=2022.7 in c:\\users\\user\\appdata\\local\\programs\\python\\python312\\lib\\site-packages (from pandas>=1.1.4->ultralytics==8.1.7) (2024.1)\n",
      "Requirement already satisfied: charset-normalizer<4,>=2 in c:\\users\\user\\appdata\\local\\programs\\python\\python312\\lib\\site-packages (from requests>=2.23.0->ultralytics==8.1.7) (3.3.2)\n",
      "Requirement already satisfied: idna<4,>=2.5 in c:\\users\\user\\appdata\\local\\programs\\python\\python312\\lib\\site-packages (from requests>=2.23.0->ultralytics==8.1.7) (3.10)\n",
      "Requirement already satisfied: urllib3<3,>=1.21.1 in c:\\users\\user\\appdata\\local\\programs\\python\\python312\\lib\\site-packages (from requests>=2.23.0->ultralytics==8.1.7) (2.2.3)\n",
      "Requirement already satisfied: certifi>=2017.4.17 in c:\\users\\user\\appdata\\local\\programs\\python\\python312\\lib\\site-packages (from requests>=2.23.0->ultralytics==8.1.7) (2024.8.30)\n",
      "Requirement already satisfied: filelock in c:\\users\\user\\appdata\\local\\programs\\python\\python312\\lib\\site-packages (from torch>=1.8.0->ultralytics==8.1.7) (3.16.1)\n",
      "Requirement already satisfied: typing-extensions>=4.8.0 in c:\\users\\user\\appdata\\local\\programs\\python\\python312\\lib\\site-packages (from torch>=1.8.0->ultralytics==8.1.7) (4.12.2)\n",
      "Requirement already satisfied: sympy in c:\\users\\user\\appdata\\local\\programs\\python\\python312\\lib\\site-packages (from torch>=1.8.0->ultralytics==8.1.7) (1.13.3)\n",
      "Requirement already satisfied: networkx in c:\\users\\user\\appdata\\local\\programs\\python\\python312\\lib\\site-packages (from torch>=1.8.0->ultralytics==8.1.7) (3.3)\n",
      "Requirement already satisfied: jinja2 in c:\\users\\user\\appdata\\local\\programs\\python\\python312\\lib\\site-packages (from torch>=1.8.0->ultralytics==8.1.7) (3.1.4)\n",
      "Requirement already satisfied: fsspec in c:\\users\\user\\appdata\\local\\programs\\python\\python312\\lib\\site-packages (from torch>=1.8.0->ultralytics==8.1.7) (2024.9.0)\n",
      "Requirement already satisfied: setuptools in c:\\users\\user\\appdata\\local\\programs\\python\\python312\\lib\\site-packages (from torch>=1.8.0->ultralytics==8.1.7) (75.1.0)\n",
      "Requirement already satisfied: colorama in c:\\users\\user\\appdata\\local\\programs\\python\\python312\\lib\\site-packages (from tqdm>=4.64.0->ultralytics==8.1.7) (0.4.6)\n",
      "Requirement already satisfied: six>=1.5 in c:\\users\\user\\appdata\\local\\programs\\python\\python312\\lib\\site-packages (from python-dateutil>=2.7->matplotlib>=3.3.0->ultralytics==8.1.7) (1.16.0)\n",
      "Requirement already satisfied: MarkupSafe>=2.0 in c:\\users\\user\\appdata\\local\\programs\\python\\python312\\lib\\site-packages (from jinja2->torch>=1.8.0->ultralytics==8.1.7) (2.1.5)\n",
      "Requirement already satisfied: mpmath<1.4,>=1.1.0 in c:\\users\\user\\appdata\\local\\programs\\python\\python312\\lib\\site-packages (from sympy->torch>=1.8.0->ultralytics==8.1.7) (1.3.0)\n",
      "Downloading ultralytics-8.1.7-py3-none-any.whl (705 kB)\n",
      "   ---------------------------------------- 0.0/705.7 kB ? eta -:--:--\n",
      "   -------------- ------------------------- 262.1/705.7 kB ? eta -:--:--\n",
      "   -------------- ------------------------- 262.1/705.7 kB ? eta -:--:--\n",
      "   ---------------------------------------- 705.7/705.7 kB 1.6 MB/s eta 0:00:00\n",
      "Downloading thop-0.1.1.post2209072238-py3-none-any.whl (15 kB)\n",
      "Installing collected packages: thop, ultralytics\n",
      "  Attempting uninstall: ultralytics\n",
      "    Found existing installation: ultralytics 8.2.98\n",
      "    Uninstalling ultralytics-8.2.98:\n",
      "      Successfully uninstalled ultralytics-8.2.98\n",
      "Successfully installed thop-0.1.1.post2209072238 ultralytics-8.1.7\n"
     ]
    }
   ],
   "source": [
    "!pip install ultralytics==8.1.7"
   ]
  },
  {
   "cell_type": "code",
   "execution_count": 3,
   "id": "a4fd9de1-f286-431d-9874-4bfc6a7cf5c3",
   "metadata": {},
   "outputs": [],
   "source": [
    "from ultralytics import YOLO"
   ]
  },
  {
   "cell_type": "code",
   "execution_count": 4,
   "id": "6e8b2c0f-b097-42a4-8b0a-b53097a1d8f3",
   "metadata": {},
   "outputs": [],
   "source": [
    "model = YOLO('best.pt')  # load a custom model"
   ]
  },
  {
   "cell_type": "code",
   "execution_count": 1,
   "id": "7c62b9ea-76b0-475e-ad1a-8c4edb9f00cc",
   "metadata": {
    "scrolled": true
   },
   "outputs": [
    {
     "ename": "NameError",
     "evalue": "name 'model' is not defined",
     "output_type": "error",
     "traceback": [
      "\u001b[1;31m---------------------------------------------------------------------------\u001b[0m",
      "\u001b[1;31mNameError\u001b[0m                                 Traceback (most recent call last)",
      "Cell \u001b[1;32mIn[1], line 1\u001b[0m\n\u001b[1;32m----> 1\u001b[0m results \u001b[38;5;241m=\u001b[39m \u001b[43mmodel\u001b[49m(\u001b[38;5;124m'\u001b[39m\u001b[38;5;124mvn.png\u001b[39m\u001b[38;5;124m'\u001b[39m)  \u001b[38;5;66;03m# predict on an image\u001b[39;00m\n\u001b[0;32m      2\u001b[0m \u001b[38;5;28;01mfrom\u001b[39;00m \u001b[38;5;21;01mmatplotlib\u001b[39;00m \u001b[38;5;28;01mimport\u001b[39;00m pyplot \u001b[38;5;28;01mas\u001b[39;00m plt\n\u001b[0;32m      3\u001b[0m plt\u001b[38;5;241m.\u001b[39mimshow(results[\u001b[38;5;241m0\u001b[39m]\u001b[38;5;241m.\u001b[39mplot())\n",
      "\u001b[1;31mNameError\u001b[0m: name 'model' is not defined"
     ]
    }
   ],
   "source": [
    "results = model('vn.png')  # predict on an image\n",
    "from matplotlib import pyplot as plt\n",
    "plt.imshow(results[0].plot())"
   ]
  },
  {
   "cell_type": "code",
   "execution_count": null,
   "id": "b56142a1-324a-4db9-83b5-701d59884362",
   "metadata": {},
   "outputs": [],
   "source": [
    "#t train\n",
    "#v val\n",
    "#i ishemic stroke\n",
    "#n normal"
   ]
  },
  {
   "cell_type": "code",
   "execution_count": null,
   "id": "f8ed9726-de04-41a2-9ca5-1f70a6f95ca2",
   "metadata": {},
   "outputs": [],
   "source": []
  }
 ],
 "metadata": {
  "kernelspec": {
   "display_name": "Python 3 (ipykernel)",
   "language": "python",
   "name": "python3"
  },
  "language_info": {
   "codemirror_mode": {
    "name": "ipython",
    "version": 3
   },
   "file_extension": ".py",
   "mimetype": "text/x-python",
   "name": "python",
   "nbconvert_exporter": "python",
   "pygments_lexer": "ipython3",
   "version": "3.12.6"
  }
 },
 "nbformat": 4,
 "nbformat_minor": 5
}
