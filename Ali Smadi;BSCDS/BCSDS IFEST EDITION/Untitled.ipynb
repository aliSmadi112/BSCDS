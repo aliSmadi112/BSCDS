{
 "cells": [
  {
   "cell_type": "code",
   "execution_count": null,
   "id": "3e91c453-6b9a-4d68-915c-d13d3ed148a5",
   "metadata": {},
   "outputs": [
    {
     "name": "stdout",
     "output_type": "stream",
     "text": [
      "\n",
      "image 1/1 C:\\Users\\USer\\Desktop\\BCSDS IFEST EDITION\\archive\\diffusion MRI\\ischemic stroke\\2 (5).JPG: 224x224 ischemic stroke 1.00, Normal 0.00, 99.8ms\n",
      "Speed: 41.0ms preprocess, 99.8ms inference, 0.0ms postprocess per image at shape (1, 3, 224, 224)\n"
     ]
    }
   ],
   "source": [
    "import tkinter as tk\n",
    "from tkinter import filedialog, PhotoImage, Label\n",
    "from PIL import Image, ImageTk\n",
    "from ultralytics import YOLO\n",
    "import numpy as np\n",
    "\n",
    "class ImageProcessingApp:\n",
    "    def __init__(self, root):\n",
    "        self.root = root\n",
    "        self.root.title(\"Image Processing App\")\n",
    "\n",
    "        # Load background image correctly\n",
    "        self.bg = PhotoImage(file=r\"C:\\Users\\USer\\Desktop\\BCSDS IFEST EDITION\\BCSDS.png\")\n",
    "        my_label = Label(root, image=self.bg)\n",
    "        my_label.place(x=0, y=0, relwidth=1, relheight=1)\n",
    "\n",
    "        self.img_path = None\n",
    "        self.result_img = None\n",
    "\n",
    "        # Create widgets\n",
    "        self.open_button = tk.Button(root, text=\"Open Image\", command=self.open_file_dialog)\n",
    "        self.open_button.pack(pady=10)\n",
    "\n",
    "        self.process_button = tk.Button(root, text=\"Process Image\", command=self.process_image, state=tk.DISABLED)\n",
    "        self.process_button.pack(pady=10)\n",
    "\n",
    "        self.panel = tk.Label(root)\n",
    "        self.panel.pack()\n",
    "\n",
    "        self.result_label = tk.Label(root, text=\"\")\n",
    "        self.result_label.pack()\n",
    "\n",
    "    def open_file_dialog(self):\n",
    "        file_path = filedialog.askopenfilename(title=\"Select Image File\", filetypes=[(\"Image files\", \"*.png;*.jpg;*.jpeg\")])\n",
    "        if file_path:\n",
    "            self.img_path = file_path\n",
    "            self.display_image()\n",
    "\n",
    "    def display_image(self):\n",
    "        img = Image.open(self.img_path)\n",
    "        img.thumbnail((300, 300))  # Resize image for display\n",
    "        img = ImageTk.PhotoImage(img)\n",
    "        self.panel.config(image=img)\n",
    "        self.panel.image = img\n",
    "\n",
    "        self.result_label.config(text=\"\")  # Clear previous result\n",
    "        self.process_button.config(state=tk.NORMAL)  # Enable process button\n",
    "        self.result_img = None  # Clear the stored processed image\n",
    "\n",
    "    def process_image(self):\n",
    "        try:\n",
    "            if self.img_path:\n",
    "                # Load YOLO model\n",
    "                model = YOLO('best.pt')  # Ensure the path to your model is correct\n",
    "\n",
    "                # Perform object detection using the image path\n",
    "                result = model(self.img_path)\n",
    "\n",
    "                # Render the plot to a PNG image\n",
    "                result_image = result[0].plot()\n",
    "\n",
    "                # Convert the result image to a Tkinter-compatible format\n",
    "                img_tk = ImageTk.PhotoImage(Image.fromarray(result_image))\n",
    "\n",
    "                # Update the label with the processed image\n",
    "                self.panel.config(image=img_tk)\n",
    "                self.panel.image = img_tk\n",
    "\n",
    "                # Update the stored processed image\n",
    "                self.result_img = result[0]\n",
    "\n",
    "                self.result_label.config(text=\"Task completed!\")\n",
    "            else:\n",
    "                self.result_label.config(text=\"No image selected.\")\n",
    "        except Exception as e:\n",
    "            self.result_label.config(text=f\"Error processing image: {str(e)}\")\n",
    "            print(f\"Exception: {e}\")  # Debugging output\n",
    "\n",
    "if __name__ == \"__main__\":\n",
    "    root = tk.Tk()\n",
    "    app = ImageProcessingApp(root)\n",
    "    root.mainloop()\n"
   ]
  },
  {
   "cell_type": "code",
   "execution_count": null,
   "id": "c18bd8f8-2887-4a47-aa82-f74b8525e9f4",
   "metadata": {},
   "outputs": [],
   "source": []
  },
  {
   "cell_type": "code",
   "execution_count": null,
   "id": "4b79612f-4f4e-4e34-9fcd-cb7ee6f226a4",
   "metadata": {},
   "outputs": [],
   "source": []
  },
  {
   "cell_type": "code",
   "execution_count": null,
   "id": "80345d51-51cd-449f-b366-b1ebc58d80e1",
   "metadata": {},
   "outputs": [],
   "source": []
  },
  {
   "cell_type": "code",
   "execution_count": null,
   "id": "c4afa9f7-f469-491c-8ac3-5b2d4e637eab",
   "metadata": {},
   "outputs": [],
   "source": []
  },
  {
   "cell_type": "code",
   "execution_count": null,
   "id": "abaa1ae4-e7e4-44f8-a57d-17a113d9477a",
   "metadata": {},
   "outputs": [],
   "source": []
  },
  {
   "cell_type": "code",
   "execution_count": null,
   "id": "49445c95-987c-41bc-93b8-b002cd637b11",
   "metadata": {},
   "outputs": [],
   "source": []
  },
  {
   "cell_type": "code",
   "execution_count": null,
   "id": "a1f01c8e-e4d6-44f7-a2d9-5ee44f928cd1",
   "metadata": {},
   "outputs": [],
   "source": []
  },
  {
   "cell_type": "code",
   "execution_count": null,
   "id": "2bd00799-8212-4d5c-b242-4abb008f22b3",
   "metadata": {},
   "outputs": [],
   "source": []
  },
  {
   "cell_type": "code",
   "execution_count": null,
   "id": "3a15fca8-6b12-4b1a-94f1-4778a9cc4542",
   "metadata": {},
   "outputs": [],
   "source": []
  },
  {
   "cell_type": "code",
   "execution_count": null,
   "id": "ffbaa668-c787-41c5-b8e6-9b7cff0f6eb9",
   "metadata": {},
   "outputs": [],
   "source": []
  },
  {
   "cell_type": "code",
   "execution_count": null,
   "id": "383d90c7-3e3f-4fae-9dae-f1c0def34333",
   "metadata": {},
   "outputs": [],
   "source": []
  },
  {
   "cell_type": "code",
   "execution_count": null,
   "id": "9b41cb9b-0f4f-4731-94fe-3bdadd04d712",
   "metadata": {},
   "outputs": [],
   "source": []
  },
  {
   "cell_type": "code",
   "execution_count": null,
   "id": "bbec4d09-68b4-4b51-bbc2-cc3d04e80308",
   "metadata": {},
   "outputs": [],
   "source": []
  },
  {
   "cell_type": "code",
   "execution_count": null,
   "id": "20a6e8f9-d3a1-446c-a4e6-57ca3f75a088",
   "metadata": {},
   "outputs": [],
   "source": []
  },
  {
   "cell_type": "code",
   "execution_count": null,
   "id": "9b109df3-815b-4b41-b9b5-7bc3a1cd2057",
   "metadata": {},
   "outputs": [],
   "source": []
  },
  {
   "cell_type": "code",
   "execution_count": null,
   "id": "e15ec569-96f7-4c1a-8e98-43e6b3a3a2a7",
   "metadata": {},
   "outputs": [],
   "source": []
  },
  {
   "cell_type": "code",
   "execution_count": null,
   "id": "af05abe2-5fe3-4ee8-a9f5-4b5472d992dd",
   "metadata": {},
   "outputs": [],
   "source": []
  }
 ],
 "metadata": {
  "kernelspec": {
   "display_name": "Python 3 (ipykernel)",
   "language": "python",
   "name": "python3"
  },
  "language_info": {
   "codemirror_mode": {
    "name": "ipython",
    "version": 3
   },
   "file_extension": ".py",
   "mimetype": "text/x-python",
   "name": "python",
   "nbconvert_exporter": "python",
   "pygments_lexer": "ipython3",
   "version": "3.12.6"
  }
 },
 "nbformat": 4,
 "nbformat_minor": 5
}
